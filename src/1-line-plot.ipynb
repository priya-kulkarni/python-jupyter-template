{
 "cells": [
  {
   "cell_type": "markdown",
   "metadata": {},
   "source": [
    "### Exercise 1: Line Plot Customization"
   ]
  },
  {
   "cell_type": "code",
   "execution_count": null,
   "metadata": {},
   "outputs": [],
   "source": [
    "# TASK: Create a line plot with x values ranging from 0 to 10 and y values as the square of x.\n",
    "# Customize the plot by adding a title, labels for both axes, and a grid."
   ]
  },
  {
   "cell_type": "code",
   "execution_count": null,
   "metadata": {},
   "outputs": [],
   "source": [
    "import matplotlib.pyplot as plt\n",
    "import numpy as np\n",
    "\n",
    "x = np.linspace(0, 10, 100)\n",
    "y = x ** 2\n",
    "\n",
    "plt.figure(figsize=(8, 5))\n",
    "plt.plot(x, y, label='y = x²', color='blue')\n",
    "\n",
    "plt.title('Line Plot of y = x²')\n",
    "plt.xlabel('x values')\n",
    "plt.ylabel('y values (x squared)')\n",
    "\n",
    "plt.grid(True)\n",
    "plt.legend()\n",
    "plt.show()\n"
   ]
  }
 ],
 "metadata": {
  "language_info": {
   "name": "python"
  }
 },
 "nbformat": 4,
 "nbformat_minor": 2
}
